{
 "cells": [
  {
   "cell_type": "code",
   "execution_count": 1,
   "id": "9c4f0232-60e0-4373-bb9c-1002f3c91fc7",
   "metadata": {},
   "outputs": [],
   "source": [
    "import numpy as np"
   ]
  },
  {
   "cell_type": "markdown",
   "id": "dc95fc8a-a044-482f-9eae-910b9c4a3396",
   "metadata": {},
   "source": [
    "## Creating the data"
   ]
  },
  {
   "cell_type": "code",
   "execution_count": 2,
   "id": "36008bdb-f90d-41c3-a58c-ad2954877833",
   "metadata": {},
   "outputs": [],
   "source": [
    "X = np.array([[1, 1], [1, 2], [2, 2], [2, 3]])\n",
    "y = np.dot(X, np.array([1, 2])) + 3"
   ]
  },
  {
   "cell_type": "markdown",
   "id": "8837b7c2-28cc-4dc4-9d11-b15ea1ff00b7",
   "metadata": {},
   "source": [
    "## Using our own application"
   ]
  },
  {
   "cell_type": "code",
   "execution_count": 5,
   "id": "28743acc-dfd2-44a4-9ac2-8a14e1f35480",
   "metadata": {},
   "outputs": [
    {
     "name": "stdout",
     "output_type": "stream",
     "text": [
      "1.0\n",
      "[16.]\n"
     ]
    }
   ],
   "source": [
    "from linear_model import LinearRegression\n",
    "\n",
    "reg = LinearRegression()\n",
    "\n",
    "reg.fit(X, y)\n",
    "s\n",
    "print(reg.score(X, y))\n",
    "\n",
    "print(reg.predict(np.array([[3, 5]])))"
   ]
  },
  {
   "cell_type": "markdown",
   "id": "b6b7f8f0-5972-4c15-80e3-c82502d503a0",
   "metadata": {},
   "source": [
    "## Using scikitlearn"
   ]
  },
  {
   "cell_type": "code",
   "execution_count": 6,
   "id": "ff56a3cf-3512-430d-97e8-6c45c773557d",
   "metadata": {},
   "outputs": [
    {
     "name": "stdout",
     "output_type": "stream",
     "text": [
      "1.0\n",
      "[16.]\n"
     ]
    }
   ],
   "source": [
    "from sklearn.linear_model import LinearRegression\n",
    "\n",
    "regressor = LinearRegression()\n",
    "\n",
    "reg = LinearRegression().fit(X, y)\n",
    "\n",
    "print(reg.score(X, y))\n",
    "\n",
    "print(reg.predict(np.array([[3, 5]])))"
   ]
  },
  {
   "cell_type": "code",
   "execution_count": null,
   "id": "db0f9b10-29db-4737-982f-173c7cc732a3",
   "metadata": {},
   "outputs": [],
   "source": []
  }
 ],
 "metadata": {
  "kernelspec": {
   "display_name": "Python 3 (ipykernel)",
   "language": "python",
   "name": "python3"
  },
  "language_info": {
   "codemirror_mode": {
    "name": "ipython",
    "version": 3
   },
   "file_extension": ".py",
   "mimetype": "text/x-python",
   "name": "python",
   "nbconvert_exporter": "python",
   "pygments_lexer": "ipython3",
   "version": "3.8.10"
  }
 },
 "nbformat": 4,
 "nbformat_minor": 5
}
